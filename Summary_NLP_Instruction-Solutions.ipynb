{
 "cells": [
  {
   "cell_type": "code",
   "execution_count": 1,
   "id": "7445dc24-1826-41bf-9ec8-103643ccbfdb",
   "metadata": {},
   "outputs": [
    {
     "name": "stderr",
     "output_type": "stream",
     "text": [
      "[nltk_data] Error loading punkt: <urlopen error [Errno 11001]\n",
      "[nltk_data]     getaddrinfo failed>\n",
      "[nltk_data] Error loading stopwords: <urlopen error [Errno 11001]\n",
      "[nltk_data]     getaddrinfo failed>\n"
     ]
    },
    {
     "data": {
      "text/plain": [
       "False"
      ]
     },
     "execution_count": 1,
     "metadata": {},
     "output_type": "execute_result"
    }
   ],
   "source": [
    "#import nltk and heapq libraries.\n",
    "#download 'punkt' from nltk\n",
    "#download 'stopwords' from nltk\n",
    "\n",
    "import nltk\n",
    "import heapq\n",
    "nltk.download('punkt')\n",
    "nltk.download('stopwords')"
   ]
  },
  {
   "cell_type": "code",
   "execution_count": 2,
   "id": "6e308d82-3165-4711-8e33-d3145ce415d7",
   "metadata": {},
   "outputs": [],
   "source": [
    "text = '''\n",
    "\n",
    "Trees, those silent giants that populate our landscapes, have always been an integral part of our natural world. They provide us with oxygen, shade on a hot summer day, and a refuge for countless creatures. Yet, beyond their physical presence, trees have a secret life that is truly fascinating. One of the most intriguing aspects of their existence is their ability to communicate with each other and form intricate networks beneath the soil. In this article, we'll delve into this extraordinary fact about trees – their ability to communicate and share vital information with their neighbors.\n",
    "\n",
    "The Wood Wide Web\n",
    "\n",
    "Imagine a vast underground network, similar to the World Wide Web, but made of roots and fungi. This is what scientists have aptly named the \"Wood Wide Web.\" This underground system enables trees to exchange a wealth of information, such as warnings about pests and diseases, sharing nutrients, and even sending distress signals during times of danger.\n",
    "\n",
    "The Mycorrhizal Connection\n",
    "\n",
    "At the heart of the Wood Wide Web are mycorrhizal fungi, which have a symbiotic relationship with trees. These fungi attach themselves to the tree's roots and extend their thread-like structures, known as hyphae, far and wide through the soil. This intricate network of hyphae connects multiple trees, forming a mycorrhizal network.\n",
    "\n",
    "Sharing Nutrients\n",
    "\n",
    "One of the most remarkable aspects of this tree communication system is the sharing of nutrients. Trees, through their roots, provide sugars and carbohydrates to the fungi. In return, the fungi scavenge the soil for essential nutrients, such as phosphorus and nitrogen, which are often scarce. The fungi then transport these nutrients back to the trees, ensuring their mutual survival.\n",
    "\n",
    "Warning Signals\n",
    "\n",
    "When a tree is under attack by insects or disease, it can release chemical signals into the air and soil. These signals are picked up by neighboring trees through their roots and can trigger a defensive response. For example, when a tree is infested with aphids, it can release chemicals that repel aphids or attract predators of aphids. This warning system can help neighboring trees prepare for an impending threat.\n",
    "\n",
    "Sharing Resources\n",
    "\n",
    "In a dense forest, where trees compete for sunlight, the Wood Wide Web allows for a form of cooperation. Larger, older trees with more access to sunlight can share some of their energy with smaller, shaded trees. This cooperative behavior ensures the survival of the entire forest ecosystem.\n",
    "\n",
    "Conclusion\n",
    "\n",
    "The fact that trees communicate with each other through the Wood Wide Web is not only fascinating but also a testament to the interconnectedness of life on Earth. It highlights the complexity of ecosystems and the importance of preserving our forests. Understanding this hidden world of tree communication can lead to more sustainable forestry practices and a deeper appreciation for the remarkable lives of these silent giants. The next time you walk through a forest, take a moment to marvel at the incredible network of communication happening beneath your feet, where trees share their secrets and support one another in the silent language of nature.'''\n"
   ]
  },
  {
   "cell_type": "code",
   "execution_count": 3,
   "id": "ff1274e9-cfb9-4d7e-959b-f3035d8c3783",
   "metadata": {},
   "outputs": [],
   "source": [
    "# Create variable stopwords (so, but , in, on, and etc.)\n",
    "stopwords = nltk.corpus.stopwords.words(\"english\")"
   ]
  },
  {
   "cell_type": "code",
   "execution_count": 4,
   "id": "2438a4b4-4ceb-4135-8f4d-d81a9963aeb3",
   "metadata": {},
   "outputs": [],
   "source": [
    "# tokenize the text into sentence\n",
    "token_sent = nltk.sent_tokenize(text)\n",
    "# tokenize the text into words\n",
    "token_words = nltk.word_tokenize(text)\n",
    "\n",
    "# print(token_sent)\n",
    "# print(token_words)"
   ]
  },
  {
   "cell_type": "code",
   "execution_count": 5,
   "id": "a51c7af2-a634-4ae8-9105-f2bd6ace62da",
   "metadata": {},
   "outputs": [],
   "source": [
    "# making a frequency dictionary.\n",
    "# {words : no. of time they appeard }\n",
    "# use for loop which seperate the stopwords from text and to insert words and no. of iterations in the frequency dictionary.\n",
    "\n",
    "frequency_dictoinary = {}\n",
    "for i in token_words :\n",
    "    if i not in stopwords:\n",
    "        if i not in frequency_dictoinary:\n",
    "            frequency_dictoinary[i] = 1\n",
    "        else:\n",
    "            frequency_dictoinary[i] += 1\n",
    "        \n",
    "\n",
    "# frequency_dictoinary\n",
    "# frequency_dictoinary['trees']"
   ]
  },
  {
   "cell_type": "code",
   "execution_count": 6,
   "id": "a8aa22a1-c56f-4d57-9213-9bc380a5519e",
   "metadata": {},
   "outputs": [
    {
     "data": {
      "text/plain": [
       "31"
      ]
     },
     "execution_count": 6,
     "metadata": {},
     "output_type": "execute_result"
    }
   ],
   "source": [
    "# calculate maximum frequency ..\n",
    "max_frequency = max(frequency_dictoinary.values())\n",
    "max_frequency"
   ]
  },
  {
   "cell_type": "code",
   "execution_count": 7,
   "id": "85e9d8a6-06ab-4f83-8a23-bfb07f10c99c",
   "metadata": {},
   "outputs": [
    {
     "data": {
      "text/plain": [
       "0.41935483870967744"
      ]
     },
     "execution_count": 7,
     "metadata": {},
     "output_type": "execute_result"
    }
   ],
   "source": [
    "# Reassign the values of words with proportion to maximum frequency, in the frequency dictionary .\n",
    "for i in frequency_dictoinary:\n",
    "    frequency_dictoinary[i] = frequency_dictoinary[i]/max_frequency\n",
    "\n",
    "frequency_dictoinary['trees']"
   ]
  },
  {
   "cell_type": "code",
   "execution_count": 8,
   "id": "13ec7f4b-54e5-4ff0-a247-2124169b18c3",
   "metadata": {},
   "outputs": [
    {
     "data": {
      "text/plain": [
       "{'\\n\\nTrees, those silent giants that populate our landscapes, have always been an integral part of our natural world.': 53.67741935483867,\n",
       " 'They provide us with oxygen, shade on a hot summer day, and a refuge for countless creatures.': 54.064516129032235,\n",
       " 'Yet, beyond their physical presence, trees have a secret life that is truly fascinating.': 59.51612903225805,\n",
       " 'One of the most intriguing aspects of their existence is their ability to communicate with each other and form intricate networks beneath the soil.': 24.000000000000007,\n",
       " \"In this article, we'll delve into this extraordinary fact about trees – their ability to communicate and share vital information with their neighbors.\": 60.67741935483869,\n",
       " 'The Wood Wide Web\\n\\nImagine a vast underground network, similar to the World Wide Web, but made of roots and fungi.': 59.22580645161291,\n",
       " 'This is what scientists have aptly named the \"Wood Wide Web.\"': 25.838709677419363,\n",
       " 'This underground system enables trees to exchange a wealth of information, such as warnings about pests and diseases, sharing nutrients, and even sending distress signals during times of danger.': 61.93548387096772,\n",
       " 'The Mycorrhizal Connection\\n\\nAt the heart of the Wood Wide Web are mycorrhizal fungi, which have a symbiotic relationship with trees.': 64.48387096774196,\n",
       " \"These fungi attach themselves to the tree's roots and extend their thread-like structures, known as hyphae, far and wide through the soil.\": 57.12903225806451,\n",
       " 'This intricate network of hyphae connects multiple trees, forming a mycorrhizal network.': 61.0,\n",
       " 'Sharing Nutrients\\n\\nOne of the most remarkable aspects of this tree communication system is the sharing of nutrients.': 24.38709677419356,\n",
       " 'Trees, through their roots, provide sugars and carbohydrates to the fungi.': 54.80645161290321,\n",
       " 'In return, the fungi scavenge the soil for essential nutrients, such as phosphorus and nitrogen, which are often scarce.': 55.54838709677417,\n",
       " 'The fungi then transport these nutrients back to the trees, ensuring their mutual survival.': 61.80645161290323,\n",
       " 'Warning Signals\\n\\nWhen a tree is under attack by insects or disease, it can release chemical signals into the air and soil.': 54.80645161290319,\n",
       " 'These signals are picked up by neighboring trees through their roots and can trigger a defensive response.': 30.064516129032256,\n",
       " 'For example, when a tree is infested with aphids, it can release chemicals that repel aphids or attract predators of aphids.': 54.29032258064512,\n",
       " 'This warning system can help neighboring trees prepare for an impending threat.': 29.451612903225804,\n",
       " 'Sharing Resources\\n\\nIn a dense forest, where trees compete for sunlight, the Wood Wide Web allows for a form of cooperation.': 63.322580645161274,\n",
       " 'Larger, older trees with more access to sunlight can share some of their energy with smaller, shaded trees.': 59.70967741935482,\n",
       " 'This cooperative behavior ensures the survival of the entire forest ecosystem.': 23.48387096774194,\n",
       " 'Conclusion\\n\\nThe fact that trees communicate with each other through the Wood Wide Web is not only fascinating but also a testament to the interconnectedness of life on Earth.': 32.87096774193548,\n",
       " 'It highlights the complexity of ecosystems and the importance of preserving our forests.': 22.64516129032258,\n",
       " 'Understanding this hidden world of tree communication can lead to more sustainable forestry practices and a deeper appreciation for the remarkable lives of these silent giants.': 24.193548387096783,\n",
       " 'The next time you walk through a forest, take a moment to marvel at the incredible network of communication happening beneath your feet, where trees share their secrets and support one another in the silent language of nature.': 62.19354838709673}"
      ]
     },
     "execution_count": 8,
     "metadata": {},
     "output_type": "execute_result"
    }
   ],
   "source": [
    "# Now, we have to create a sentence scores dictionary.\n",
    "# This will assign scores to sentences according to their importance.\n",
    "# The values of high frequency words present in sentences, are added together as values to sentences in dictionary.\n",
    "\n",
    "sent_scores ={}\n",
    "for sent in token_sent:\n",
    "    for word in token_words:\n",
    "        if word in sent:\n",
    "            if word in frequency_dictoinary:\n",
    "                if sent not in sent_scores:\n",
    "                    sent_scores[sent] = frequency_dictoinary[word]\n",
    "                else :\n",
    "                    sent_scores[sent] += frequency_dictoinary[word] \n",
    "\n",
    "sent_scores\n",
    "\n",
    "\n"
   ]
  },
  {
   "cell_type": "code",
   "execution_count": 9,
   "id": "991ac813-65b0-4d22-ad37-3009fecdf40b",
   "metadata": {},
   "outputs": [],
   "source": [
    "# extract top 10 useful sentences from dictionary  as summary.\n",
    "# use heapq , and nlargest() function .  \n",
    "summary = heapq.nlargest(10,sent_scores,sent_scores.get)\n"
   ]
  },
  {
   "cell_type": "code",
   "execution_count": 10,
   "id": "3708013c-afb7-4cfd-b964-0615931bb1f9",
   "metadata": {},
   "outputs": [
    {
     "name": "stdout",
     "output_type": "stream",
     "text": [
      "The Mycorrhizal Connection\n",
      "\n",
      "At the heart of the Wood Wide Web are mycorrhizal fungi, which have a symbiotic relationship with trees.\n",
      "Sharing Resources\n",
      "\n",
      "In a dense forest, where trees compete for sunlight, the Wood Wide Web allows for a form of cooperation.\n",
      "The next time you walk through a forest, take a moment to marvel at the incredible network of communication happening beneath your feet, where trees share their secrets and support one another in the silent language of nature.\n",
      "This underground system enables trees to exchange a wealth of information, such as warnings about pests and diseases, sharing nutrients, and even sending distress signals during times of danger.\n",
      "The fungi then transport these nutrients back to the trees, ensuring their mutual survival.\n",
      "This intricate network of hyphae connects multiple trees, forming a mycorrhizal network.\n",
      "In this article, we'll delve into this extraordinary fact about trees – their ability to communicate and share vital information with their neighbors.\n",
      "Larger, older trees with more access to sunlight can share some of their energy with smaller, shaded trees.\n",
      "Yet, beyond their physical presence, trees have a secret life that is truly fascinating.\n",
      "The Wood Wide Web\n",
      "\n",
      "Imagine a vast underground network, similar to the World Wide Web, but made of roots and fungi.\n"
     ]
    }
   ],
   "source": [
    "# print summary using for loop. \n",
    "for i in summary:\n",
    "    print(i)"
   ]
  },
  {
   "cell_type": "code",
   "execution_count": null,
   "id": "310b6960-1dd6-4c37-81d4-50c0703278c4",
   "metadata": {},
   "outputs": [],
   "source": []
  },
  {
   "cell_type": "code",
   "execution_count": null,
   "id": "a398640f-0baf-4cf2-ab77-6bec916c7b2a",
   "metadata": {},
   "outputs": [],
   "source": []
  }
 ],
 "metadata": {
  "kernelspec": {
   "display_name": "Python 3 (ipykernel)",
   "language": "python",
   "name": "python3"
  },
  "language_info": {
   "codemirror_mode": {
    "name": "ipython",
    "version": 3
   },
   "file_extension": ".py",
   "mimetype": "text/x-python",
   "name": "python",
   "nbconvert_exporter": "python",
   "pygments_lexer": "ipython3",
   "version": "3.10.13"
  }
 },
 "nbformat": 4,
 "nbformat_minor": 5
}
