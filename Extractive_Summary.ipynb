{
 "cells": [
  {
   "cell_type": "code",
   "execution_count": 1,
   "id": "565002bb-61b5-4e34-beb4-77b574ff481b",
   "metadata": {},
   "outputs": [],
   "source": [
    "import nltk\n",
    "import heapq\n",
    "# nltk.download('punkt')\n",
    "# nltk.download('stopwords')"
   ]
  },
  {
   "cell_type": "code",
   "execution_count": 2,
   "id": "da04321f-a926-4ed2-b1db-0fa2559e5f6b",
   "metadata": {},
   "outputs": [],
   "source": [
    "text = '''\n",
    "\n",
    "Trees, those silent giants that populate our landscapes, have always been an integral part of our natural world. They provide us with oxygen, shade on a hot summer day, and a refuge for countless creatures. Yet, beyond their physical presence, trees have a secret life that is truly fascinating. One of the most intriguing aspects of their existence is their ability to communicate with each other and form intricate networks beneath the soil. In this article, we'll delve into this extraordinary fact about trees – their ability to communicate and share vital information with their neighbors.\n",
    "\n",
    "The Wood Wide Web\n",
    "\n",
    "Imagine a vast underground network, similar to the World Wide Web, but made of roots and fungi. This is what scientists have aptly named the \"Wood Wide Web.\" This underground system enables trees to exchange a wealth of information, such as warnings about pests and diseases, sharing nutrients, and even sending distress signals during times of danger.\n",
    "\n",
    "The Mycorrhizal Connection\n",
    "\n",
    "At the heart of the Wood Wide Web are mycorrhizal fungi, which have a symbiotic relationship with trees. These fungi attach themselves to the tree's roots and extend their thread-like structures, known as hyphae, far and wide through the soil. This intricate network of hyphae connects multiple trees, forming a mycorrhizal network.\n",
    "\n",
    "Sharing Nutrients\n",
    "\n",
    "One of the most remarkable aspects of this tree communication system is the sharing of nutrients. Trees, through their roots, provide sugars and carbohydrates to the fungi. In return, the fungi scavenge the soil for essential nutrients, such as phosphorus and nitrogen, which are often scarce. The fungi then transport these nutrients back to the trees, ensuring their mutual survival.\n",
    "\n",
    "Warning Signals\n",
    "\n",
    "When a tree is under attack by insects or disease, it can release chemical signals into the air and soil. These signals are picked up by neighboring trees through their roots and can trigger a defensive response. For example, when a tree is infested with aphids, it can release chemicals that repel aphids or attract predators of aphids. This warning system can help neighboring trees prepare for an impending threat.\n",
    "\n",
    "Sharing Resources\n",
    "\n",
    "In a dense forest, where trees compete for sunlight, the Wood Wide Web allows for a form of cooperation. Larger, older trees with more access to sunlight can share some of their energy with smaller, shaded trees. This cooperative behavior ensures the survival of the entire forest ecosystem.\n",
    "\n",
    "Conclusion\n",
    "\n",
    "The fact that trees communicate with each other through the Wood Wide Web is not only fascinating but also a testament to the interconnectedness of life on Earth. It highlights the complexity of ecosystems and the importance of preserving our forests. Understanding this hidden world of tree communication can lead to more sustainable forestry practices and a deeper appreciation for the remarkable lives of these silent giants. The next time you walk through a forest, take a moment to marvel at the incredible network of communication happening beneath your feet, where trees share their secrets and support one another in the silent language of nature.'''\n"
   ]
  },
  {
   "cell_type": "code",
   "execution_count": 3,
   "id": "d4ec64c8-9d13-43c8-a505-f827dfeda80c",
   "metadata": {},
   "outputs": [],
   "source": [
    "stopwords = nltk.corpus.stopwords.words('english')\n",
    "#stopwords"
   ]
  },
  {
   "cell_type": "code",
   "execution_count": 4,
   "id": "abbc4b32-1813-443a-99b6-218e3dd2a96c",
   "metadata": {},
   "outputs": [],
   "source": [
    "#tokenize the sentence\n",
    "token_sents = nltk.sent_tokenize(text)\n",
    "#tokenize into words\n",
    "token_words = nltk.word_tokenize(text)\n"
   ]
  },
  {
   "cell_type": "code",
   "execution_count": 5,
   "id": "16d748b5-b067-48a6-aa8f-b386119235de",
   "metadata": {},
   "outputs": [],
   "source": [
    "#make a frequency dictionary\n",
    "fd = {} # {words : no. of time they appeard }\n",
    "# for loop which seperate the stopwords from text.\n",
    "for i in token_words:\n",
    "    if i not in stopwords:\n",
    "        if i not in fd :\n",
    "            fd[i] = 1\n",
    "        else :\n",
    "            fd[i] += 1\n"
   ]
  },
  {
   "cell_type": "code",
   "execution_count": 6,
   "id": "fd309ae3-9b8a-4750-a15e-c92ff6855c41",
   "metadata": {},
   "outputs": [],
   "source": [
    "#maximum fraquency\n",
    "maximum_fraquency = max(fd.values())\n",
    "\n",
    "#fd[\"trees\"]"
   ]
  },
  {
   "cell_type": "code",
   "execution_count": 7,
   "id": "a8650268-fb37-41db-bf44-af92c9e0f2e9",
   "metadata": {},
   "outputs": [],
   "source": [
    "for i in fd:  # reassign the words to values according maximum frequency proportion\n",
    "    fd[i] = fd[i]/maximum_fraquency\n",
    "#fd['trees']"
   ]
  },
  {
   "cell_type": "code",
   "execution_count": 8,
   "id": "179153af-f1c3-4056-ae1e-8fab88804422",
   "metadata": {},
   "outputs": [
    {
     "data": {
      "text/plain": [
       "{'\\n\\nTrees, those silent giants that populate our landscapes, have always been an integral part of our natural world.': 53.67741935483867,\n",
       " 'They provide us with oxygen, shade on a hot summer day, and a refuge for countless creatures.': 54.064516129032235,\n",
       " 'Yet, beyond their physical presence, trees have a secret life that is truly fascinating.': 59.51612903225805,\n",
       " 'One of the most intriguing aspects of their existence is their ability to communicate with each other and form intricate networks beneath the soil.': 24.000000000000007,\n",
       " \"In this article, we'll delve into this extraordinary fact about trees – their ability to communicate and share vital information with their neighbors.\": 60.67741935483869,\n",
       " 'The Wood Wide Web\\n\\nImagine a vast underground network, similar to the World Wide Web, but made of roots and fungi.': 59.22580645161291,\n",
       " 'This is what scientists have aptly named the \"Wood Wide Web.\"': 25.838709677419363,\n",
       " 'This underground system enables trees to exchange a wealth of information, such as warnings about pests and diseases, sharing nutrients, and even sending distress signals during times of danger.': 61.93548387096772,\n",
       " 'The Mycorrhizal Connection\\n\\nAt the heart of the Wood Wide Web are mycorrhizal fungi, which have a symbiotic relationship with trees.': 64.48387096774196,\n",
       " \"These fungi attach themselves to the tree's roots and extend their thread-like structures, known as hyphae, far and wide through the soil.\": 57.12903225806451,\n",
       " 'This intricate network of hyphae connects multiple trees, forming a mycorrhizal network.': 61.0,\n",
       " 'Sharing Nutrients\\n\\nOne of the most remarkable aspects of this tree communication system is the sharing of nutrients.': 24.38709677419356,\n",
       " 'Trees, through their roots, provide sugars and carbohydrates to the fungi.': 54.80645161290321,\n",
       " 'In return, the fungi scavenge the soil for essential nutrients, such as phosphorus and nitrogen, which are often scarce.': 55.54838709677417,\n",
       " 'The fungi then transport these nutrients back to the trees, ensuring their mutual survival.': 61.80645161290323,\n",
       " 'Warning Signals\\n\\nWhen a tree is under attack by insects or disease, it can release chemical signals into the air and soil.': 54.80645161290319,\n",
       " 'These signals are picked up by neighboring trees through their roots and can trigger a defensive response.': 30.064516129032256,\n",
       " 'For example, when a tree is infested with aphids, it can release chemicals that repel aphids or attract predators of aphids.': 54.29032258064512,\n",
       " 'This warning system can help neighboring trees prepare for an impending threat.': 29.451612903225804,\n",
       " 'Sharing Resources\\n\\nIn a dense forest, where trees compete for sunlight, the Wood Wide Web allows for a form of cooperation.': 63.322580645161274,\n",
       " 'Larger, older trees with more access to sunlight can share some of their energy with smaller, shaded trees.': 59.70967741935482,\n",
       " 'This cooperative behavior ensures the survival of the entire forest ecosystem.': 23.48387096774194,\n",
       " 'Conclusion\\n\\nThe fact that trees communicate with each other through the Wood Wide Web is not only fascinating but also a testament to the interconnectedness of life on Earth.': 32.87096774193548,\n",
       " 'It highlights the complexity of ecosystems and the importance of preserving our forests.': 22.64516129032258,\n",
       " 'Understanding this hidden world of tree communication can lead to more sustainable forestry practices and a deeper appreciation for the remarkable lives of these silent giants.': 24.193548387096783,\n",
       " 'The next time you walk through a forest, take a moment to marvel at the incredible network of communication happening beneath your feet, where trees share their secrets and support one another in the silent language of nature.': 62.19354838709673}"
      ]
     },
     "execution_count": 8,
     "metadata": {},
     "output_type": "execute_result"
    }
   ],
   "source": [
    "# creating a collection of sentences and arranging them according to priority of the frequency of words \n",
    "sent_scores = {}\n",
    "for sent in token_sents:     ## for sentence in token_sentences\n",
    "    for word in token_words:    ## in that sentence, for word in token_words\n",
    "        if word in sent:             ## if their exist that word in fd\n",
    "            if word in fd:\n",
    "                if sent not in sent_scores:    ##  and if that sentence is not already in sent_scores dictionary  \n",
    "                    sent_scores[sent] = fd[word]   ## then  append that sentence in sent_score dictionary as key and assign it's value as frequency value from fd\n",
    "                else :                             ## else already exist in sent_score then add into it.\n",
    "                    sent_scores[sent] += fd[word]   ## it does for every word and for every sentences .\n",
    "# sent_scores                                \n",
    "# In this every it checks ,in every sentence their exist words which are from frequency dictionary(words seperated from stopwords).\n",
    "# And adds the frequency value of the words as value of the sentence.   \n",
    "# So the sentence having more no. of words, which occurs more times in text , have higher value.\n",
    "sent_scores"
   ]
  },
  {
   "cell_type": "code",
   "execution_count": 9,
   "id": "467182d2-5729-48d9-9a6c-2f7d19d50821",
   "metadata": {},
   "outputs": [],
   "source": [
    "summary  = heapq.nlargest(10,sent_scores,key=sent_scores.get)\n",
    "#summary"
   ]
  },
  {
   "cell_type": "code",
   "execution_count": 10,
   "id": "db120073-00ce-400e-b65c-0cd22a756377",
   "metadata": {},
   "outputs": [
    {
     "name": "stdout",
     "output_type": "stream",
     "text": [
      "The Mycorrhizal Connection\n",
      "\n",
      "At the heart of the Wood Wide Web are mycorrhizal fungi, which have a symbiotic relationship with trees.\n",
      "Sharing Resources\n",
      "\n",
      "In a dense forest, where trees compete for sunlight, the Wood Wide Web allows for a form of cooperation.\n",
      "The next time you walk through a forest, take a moment to marvel at the incredible network of communication happening beneath your feet, where trees share their secrets and support one another in the silent language of nature.\n",
      "This underground system enables trees to exchange a wealth of information, such as warnings about pests and diseases, sharing nutrients, and even sending distress signals during times of danger.\n",
      "The fungi then transport these nutrients back to the trees, ensuring their mutual survival.\n",
      "This intricate network of hyphae connects multiple trees, forming a mycorrhizal network.\n",
      "In this article, we'll delve into this extraordinary fact about trees – their ability to communicate and share vital information with their neighbors.\n",
      "Larger, older trees with more access to sunlight can share some of their energy with smaller, shaded trees.\n",
      "Yet, beyond their physical presence, trees have a secret life that is truly fascinating.\n",
      "The Wood Wide Web\n",
      "\n",
      "Imagine a vast underground network, similar to the World Wide Web, but made of roots and fungi.\n"
     ]
    }
   ],
   "source": [
    "for i in summary:\n",
    "    print(i)"
   ]
  },
  {
   "cell_type": "code",
   "execution_count": null,
   "id": "18bea7d8-169a-4c20-871f-a7f5584d79bf",
   "metadata": {},
   "outputs": [],
   "source": []
  },
  {
   "cell_type": "code",
   "execution_count": null,
   "id": "44740084-00f0-40f7-92f0-c0b2239a3e69",
   "metadata": {},
   "outputs": [],
   "source": []
  }
 ],
 "metadata": {
  "kernelspec": {
   "display_name": "Python 3 (ipykernel)",
   "language": "python",
   "name": "python3"
  },
  "language_info": {
   "codemirror_mode": {
    "name": "ipython",
    "version": 3
   },
   "file_extension": ".py",
   "mimetype": "text/x-python",
   "name": "python",
   "nbconvert_exporter": "python",
   "pygments_lexer": "ipython3",
   "version": "3.10.13"
  }
 },
 "nbformat": 4,
 "nbformat_minor": 5
}
